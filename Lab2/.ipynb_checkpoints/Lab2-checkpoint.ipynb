{
 "cells": [
  {
   "cell_type": "markdown",
   "id": "d6c75986",
   "metadata": {},
   "source": [
    "# Лабораторная работа №2\n",
    "## Обработка пропусков в данных, кодирование категориальных признаков, масштабирование данных"
   ]
  },
  {
   "cell_type": "markdown",
   "id": "0781e54b",
   "metadata": {},
   "source": [
    "## Задание:\n",
    "1. Выбрать набор данных (датасет), содержащий категориальные признаки и пропуски в данных. Для выполнения следующих пунктов можно использовать несколько различных наборов данных (один для обработки пропусков, другой для категориальных признаков и т.д.)\n",
    "2. Для выбранного датасета (датасетов) на основе материалов лекции решить следующие задачи:\n",
    "    - обработку пропусков в данных;\n",
    "    - кодирование категориальных признаков;\n",
    "    - масштабирование данных."
   ]
  },
  {
   "cell_type": "markdown",
   "id": "2b9975c1",
   "metadata": {},
   "source": [
    "В качестве исходных данных возьмём датасет результаты игроков в баскетбол за несколько сезонов"
   ]
  },
  {
   "cell_type": "code",
   "execution_count": 42,
   "id": "dfd0a8bd",
   "metadata": {},
   "outputs": [],
   "source": [
    "#Импорт библиотек\n",
    "import numpy as np\n",
    "import pandas as pd\n",
    "import seaborn as sns\n",
    "import matplotlib.pyplot as plt\n",
    "from sklearn.impute import SimpleImputer, MissingIndicator\n",
    "from sklearn.preprocessing import MinMaxScaler, StandardScaler, OneHotEncoder, LabelEncoder"
   ]
  },
  {
   "cell_type": "code",
   "execution_count": 43,
   "id": "23ea97dd",
   "metadata": {},
   "outputs": [],
   "source": [
    "data = pd.read_csv(\"1.04. Real-life example.csv\")"
   ]
  },
  {
   "cell_type": "code",
   "execution_count": 44,
   "id": "0b7e9995",
   "metadata": {},
   "outputs": [
    {
     "data": {
      "text/plain": [
       "(4345, 9)"
      ]
     },
     "execution_count": 44,
     "metadata": {},
     "output_type": "execute_result"
    }
   ],
   "source": [
    "data.shape"
   ]
  },
  {
   "cell_type": "code",
   "execution_count": 45,
   "id": "8a0e5ca0",
   "metadata": {},
   "outputs": [
    {
     "data": {
      "text/html": [
       "<div>\n",
       "<style scoped>\n",
       "    .dataframe tbody tr th:only-of-type {\n",
       "        vertical-align: middle;\n",
       "    }\n",
       "\n",
       "    .dataframe tbody tr th {\n",
       "        vertical-align: top;\n",
       "    }\n",
       "\n",
       "    .dataframe thead th {\n",
       "        text-align: right;\n",
       "    }\n",
       "</style>\n",
       "<table border=\"1\" class=\"dataframe\">\n",
       "  <thead>\n",
       "    <tr style=\"text-align: right;\">\n",
       "      <th></th>\n",
       "      <th>Brand</th>\n",
       "      <th>Price</th>\n",
       "      <th>Body</th>\n",
       "      <th>Mileage</th>\n",
       "      <th>EngineV</th>\n",
       "      <th>Engine Type</th>\n",
       "      <th>Registration</th>\n",
       "      <th>Year</th>\n",
       "      <th>Model</th>\n",
       "    </tr>\n",
       "  </thead>\n",
       "  <tbody>\n",
       "    <tr>\n",
       "      <th>0</th>\n",
       "      <td>BMW</td>\n",
       "      <td>4200.0</td>\n",
       "      <td>sedan</td>\n",
       "      <td>277</td>\n",
       "      <td>2.0</td>\n",
       "      <td>Petrol</td>\n",
       "      <td>yes</td>\n",
       "      <td>1991</td>\n",
       "      <td>320</td>\n",
       "    </tr>\n",
       "    <tr>\n",
       "      <th>1</th>\n",
       "      <td>Mercedes-Benz</td>\n",
       "      <td>7900.0</td>\n",
       "      <td>van</td>\n",
       "      <td>427</td>\n",
       "      <td>2.9</td>\n",
       "      <td>Diesel</td>\n",
       "      <td>yes</td>\n",
       "      <td>1999</td>\n",
       "      <td>Sprinter 212</td>\n",
       "    </tr>\n",
       "    <tr>\n",
       "      <th>2</th>\n",
       "      <td>Mercedes-Benz</td>\n",
       "      <td>13300.0</td>\n",
       "      <td>sedan</td>\n",
       "      <td>358</td>\n",
       "      <td>5.0</td>\n",
       "      <td>Gas</td>\n",
       "      <td>yes</td>\n",
       "      <td>2003</td>\n",
       "      <td>S 500</td>\n",
       "    </tr>\n",
       "    <tr>\n",
       "      <th>3</th>\n",
       "      <td>Audi</td>\n",
       "      <td>23000.0</td>\n",
       "      <td>crossover</td>\n",
       "      <td>240</td>\n",
       "      <td>4.2</td>\n",
       "      <td>Petrol</td>\n",
       "      <td>yes</td>\n",
       "      <td>2007</td>\n",
       "      <td>Q7</td>\n",
       "    </tr>\n",
       "    <tr>\n",
       "      <th>4</th>\n",
       "      <td>Toyota</td>\n",
       "      <td>18300.0</td>\n",
       "      <td>crossover</td>\n",
       "      <td>120</td>\n",
       "      <td>2.0</td>\n",
       "      <td>Petrol</td>\n",
       "      <td>yes</td>\n",
       "      <td>2011</td>\n",
       "      <td>Rav 4</td>\n",
       "    </tr>\n",
       "  </tbody>\n",
       "</table>\n",
       "</div>"
      ],
      "text/plain": [
       "           Brand    Price       Body  Mileage  EngineV Engine Type  \\\n",
       "0            BMW   4200.0      sedan      277      2.0      Petrol   \n",
       "1  Mercedes-Benz   7900.0        van      427      2.9      Diesel   \n",
       "2  Mercedes-Benz  13300.0      sedan      358      5.0         Gas   \n",
       "3           Audi  23000.0  crossover      240      4.2      Petrol   \n",
       "4         Toyota  18300.0  crossover      120      2.0      Petrol   \n",
       "\n",
       "  Registration  Year         Model  \n",
       "0          yes  1991           320  \n",
       "1          yes  1999  Sprinter 212  \n",
       "2          yes  2003         S 500  \n",
       "3          yes  2007            Q7  \n",
       "4          yes  2011         Rav 4  "
      ]
     },
     "execution_count": 45,
     "metadata": {},
     "output_type": "execute_result"
    }
   ],
   "source": [
    "data.head()"
   ]
  },
  {
   "cell_type": "code",
   "execution_count": 46,
   "id": "2f982ee3",
   "metadata": {},
   "outputs": [
    {
     "data": {
      "text/plain": [
       "Brand             0\n",
       "Price           172\n",
       "Body              0\n",
       "Mileage           0\n",
       "EngineV         150\n",
       "Engine Type       0\n",
       "Registration      0\n",
       "Year              0\n",
       "Model             0\n",
       "dtype: int64"
      ]
     },
     "execution_count": 46,
     "metadata": {},
     "output_type": "execute_result"
    }
   ],
   "source": [
    "#Проверка пропусков\n",
    "data.isnull().sum()"
   ]
  },
  {
   "cell_type": "code",
   "execution_count": 47,
   "id": "cf2018af",
   "metadata": {},
   "outputs": [
    {
     "data": {
      "text/plain": [
       "Brand            object\n",
       "Price           float64\n",
       "Body             object\n",
       "Mileage           int64\n",
       "EngineV         float64\n",
       "Engine Type      object\n",
       "Registration     object\n",
       "Year              int64\n",
       "Model            object\n",
       "dtype: object"
      ]
     },
     "execution_count": 47,
     "metadata": {},
     "output_type": "execute_result"
    }
   ],
   "source": [
    "#Проверка типов\n",
    "data.dtypes"
   ]
  },
  {
   "cell_type": "markdown",
   "id": "6028393d",
   "metadata": {},
   "source": [
    "# 1) Обработка пропусков данных"
   ]
  },
  {
   "cell_type": "markdown",
   "id": "68013f4c",
   "metadata": {},
   "source": [
    "Обработку пропусков данных можно осуществить следующими способами:"
   ]
  },
  {
   "cell_type": "markdown",
   "id": "3777e3e7",
   "metadata": {},
   "source": [
    "### Удаление столбцов или строк, в которых есть пропуски"
   ]
  },
  {
   "cell_type": "code",
   "execution_count": 48,
   "id": "4ddd629b",
   "metadata": {},
   "outputs": [
    {
     "data": {
      "text/plain": [
       "((4025, 9), (4345, 9))"
      ]
     },
     "execution_count": 48,
     "metadata": {},
     "output_type": "execute_result"
    }
   ],
   "source": [
    "dataWithoutrows = data.dropna(axis=0, how=\"any\")\n",
    "(dataWithoutrows.shape, data.shape)"
   ]
  },
  {
   "cell_type": "code",
   "execution_count": 49,
   "id": "dfa143f7",
   "metadata": {},
   "outputs": [
    {
     "data": {
      "text/plain": [
       "((4345, 7), (4345, 9))"
      ]
     },
     "execution_count": 49,
     "metadata": {},
     "output_type": "execute_result"
    }
   ],
   "source": [
    "dataWithoutcols = data.dropna(axis=1, how=\"any\")\n",
    "(dataWithoutcols.shape, data.shape)"
   ]
  },
  {
   "cell_type": "markdown",
   "id": "79fea0ff",
   "metadata": {},
   "source": [
    "### Заполнение пропусков нулями"
   ]
  },
  {
   "cell_type": "code",
   "execution_count": 50,
   "id": "3014d5b3",
   "metadata": {},
   "outputs": [
    {
     "data": {
      "text/plain": [
       "Brand           0\n",
       "Price           0\n",
       "Body            0\n",
       "Mileage         0\n",
       "EngineV         0\n",
       "Engine Type     0\n",
       "Registration    0\n",
       "Year            0\n",
       "Model           0\n",
       "dtype: int64"
      ]
     },
     "execution_count": 50,
     "metadata": {},
     "output_type": "execute_result"
    }
   ],
   "source": [
    "dataWithNull = data.fillna(0)\n",
    "dataWithNull.isnull().sum()"
   ]
  },
  {
   "cell_type": "markdown",
   "id": "e1f5ebfa",
   "metadata": {},
   "source": [
    "### Внедрение значений"
   ]
  },
  {
   "cell_type": "code",
   "execution_count": 51,
   "id": "d77cb1f9",
   "metadata": {},
   "outputs": [
    {
     "data": {
      "text/html": [
       "<div>\n",
       "<style scoped>\n",
       "    .dataframe tbody tr th:only-of-type {\n",
       "        vertical-align: middle;\n",
       "    }\n",
       "\n",
       "    .dataframe tbody tr th {\n",
       "        vertical-align: top;\n",
       "    }\n",
       "\n",
       "    .dataframe thead th {\n",
       "        text-align: right;\n",
       "    }\n",
       "</style>\n",
       "<table border=\"1\" class=\"dataframe\">\n",
       "  <thead>\n",
       "    <tr style=\"text-align: right;\">\n",
       "      <th></th>\n",
       "      <th>Price</th>\n",
       "      <th>EngineV</th>\n",
       "    </tr>\n",
       "  </thead>\n",
       "  <tbody>\n",
       "    <tr>\n",
       "      <th>0</th>\n",
       "      <td>4200.0</td>\n",
       "      <td>2.0</td>\n",
       "    </tr>\n",
       "    <tr>\n",
       "      <th>1</th>\n",
       "      <td>7900.0</td>\n",
       "      <td>2.9</td>\n",
       "    </tr>\n",
       "    <tr>\n",
       "      <th>2</th>\n",
       "      <td>13300.0</td>\n",
       "      <td>5.0</td>\n",
       "    </tr>\n",
       "    <tr>\n",
       "      <th>3</th>\n",
       "      <td>23000.0</td>\n",
       "      <td>4.2</td>\n",
       "    </tr>\n",
       "    <tr>\n",
       "      <th>4</th>\n",
       "      <td>18300.0</td>\n",
       "      <td>2.0</td>\n",
       "    </tr>\n",
       "    <tr>\n",
       "      <th>...</th>\n",
       "      <td>...</td>\n",
       "      <td>...</td>\n",
       "    </tr>\n",
       "    <tr>\n",
       "      <th>4340</th>\n",
       "      <td>125000.0</td>\n",
       "      <td>3.0</td>\n",
       "    </tr>\n",
       "    <tr>\n",
       "      <th>4341</th>\n",
       "      <td>6500.0</td>\n",
       "      <td>3.5</td>\n",
       "    </tr>\n",
       "    <tr>\n",
       "      <th>4342</th>\n",
       "      <td>8000.0</td>\n",
       "      <td>2.0</td>\n",
       "    </tr>\n",
       "    <tr>\n",
       "      <th>4343</th>\n",
       "      <td>14200.0</td>\n",
       "      <td>NaN</td>\n",
       "    </tr>\n",
       "    <tr>\n",
       "      <th>4344</th>\n",
       "      <td>13500.0</td>\n",
       "      <td>2.0</td>\n",
       "    </tr>\n",
       "  </tbody>\n",
       "</table>\n",
       "<p>4345 rows × 2 columns</p>\n",
       "</div>"
      ],
      "text/plain": [
       "         Price  EngineV\n",
       "0       4200.0      2.0\n",
       "1       7900.0      2.9\n",
       "2      13300.0      5.0\n",
       "3      23000.0      4.2\n",
       "4      18300.0      2.0\n",
       "...        ...      ...\n",
       "4340  125000.0      3.0\n",
       "4341    6500.0      3.5\n",
       "4342    8000.0      2.0\n",
       "4343   14200.0      NaN\n",
       "4344   13500.0      2.0\n",
       "\n",
       "[4345 rows x 2 columns]"
      ]
     },
     "execution_count": 51,
     "metadata": {},
     "output_type": "execute_result"
    }
   ],
   "source": [
    "nullCol= []\n",
    "for col in data.columns:\n",
    "    if data[data[col].isnull()].shape[0] > 0:\n",
    "        nullCol.append(col)\n",
    "nullData = data[nullCol]\n",
    "nullData"
   ]
  },
  {
   "cell_type": "code",
   "execution_count": 52,
   "id": "680e550f",
   "metadata": {
    "scrolled": true
   },
   "outputs": [
    {
     "data": {
      "image/png": "[encoded data removed]",
      "text/plain": [
       "<Figure size 432x288 with 1 Axes>"
      ]
     },
     "metadata": {
      "needs_background": "light"
     },
     "output_type": "display_data"
    },
    {
     "data": {
      "image/png": "[encoded data removed]",
      "text/plain": [
       "<Figure size 432x288 with 1 Axes>"
      ]
     },
     "metadata": {
      "needs_background": "light"
     },
     "output_type": "display_data"
    }
   ],
   "source": [
    "#Исходные графики рассматриваемых столбцов\n",
    "for col in nullData:\n",
    "    plt.hist(data[col],50)\n",
    "    plt.xlabel(col)\n",
    "    plt.show()"
   ]
  },
  {
   "cell_type": "code",
   "execution_count": 53,
   "id": "c84cce1a",
   "metadata": {},
   "outputs": [],
   "source": [
    "#Локальное заполнение пропусков\n",
    "def test_num_impute(strategy_param, col):\n",
    "    imp_num=SimpleImputer(strategy=strategy_param)\n",
    "    indicator = MissingIndicator()\n",
    "    mask_missing_values_only = indicator.fit_transform(nullData[[col]])\n",
    "    data_num_imp=imp_num.fit_transform(nullData[[col]])\n",
    "    return data_num_imp[mask_missing_values_only]"
   ]
  },
  {
   "cell_type": "code",
   "execution_count": 54,
   "id": "5d7d5d06",
   "metadata": {},
   "outputs": [
    {
     "data": {
      "text/plain": [
       "array([19418.74693506, 19418.74693506, 19418.74693506, 19418.74693506,\n",
       "       19418.74693506, 19418.74693506, 19418.74693506, 19418.74693506,\n",
       "       19418.74693506, 19418.74693506, 19418.74693506, 19418.74693506,\n",
       "       19418.74693506, 19418.74693506, 19418.74693506, 19418.74693506,\n",
       "       19418.74693506, 19418.74693506, 19418.74693506, 19418.74693506,\n",
       "       19418.74693506, 19418.74693506, 19418.74693506, 19418.74693506,\n",
       "       19418.74693506, 19418.74693506, 19418.74693506, 19418.74693506,\n",
       "       19418.74693506, 19418.74693506, 19418.74693506, 19418.74693506,\n",
       "       19418.74693506, 19418.74693506, 19418.74693506, 19418.74693506,\n",
       "       19418.74693506, 19418.74693506, 19418.74693506, 19418.74693506,\n",
       "       19418.74693506, 19418.74693506, 19418.74693506, 19418.74693506,\n",
       "       19418.74693506, 19418.74693506, 19418.74693506, 19418.74693506,\n",
       "       19418.74693506, 19418.74693506, 19418.74693506, 19418.74693506,\n",
       "       19418.74693506, 19418.74693506, 19418.74693506, 19418.74693506,\n",
       "       19418.74693506, 19418.74693506, 19418.74693506, 19418.74693506,\n",
       "       19418.74693506, 19418.74693506, 19418.74693506, 19418.74693506,\n",
       "       19418.74693506, 19418.74693506, 19418.74693506, 19418.74693506,\n",
       "       19418.74693506, 19418.74693506, 19418.74693506, 19418.74693506,\n",
       "       19418.74693506, 19418.74693506, 19418.74693506, 19418.74693506,\n",
       "       19418.74693506, 19418.74693506, 19418.74693506, 19418.74693506,\n",
       "       19418.74693506, 19418.74693506, 19418.74693506, 19418.74693506,\n",
       "       19418.74693506, 19418.74693506, 19418.74693506, 19418.74693506,\n",
       "       19418.74693506, 19418.74693506, 19418.74693506, 19418.74693506,\n",
       "       19418.74693506, 19418.74693506, 19418.74693506, 19418.74693506,\n",
       "       19418.74693506, 19418.74693506, 19418.74693506, 19418.74693506,\n",
       "       19418.74693506, 19418.74693506, 19418.74693506, 19418.74693506,\n",
       "       19418.74693506, 19418.74693506, 19418.74693506, 19418.74693506,\n",
       "       19418.74693506, 19418.74693506, 19418.74693506, 19418.74693506,\n",
       "       19418.74693506, 19418.74693506, 19418.74693506, 19418.74693506,\n",
       "       19418.74693506, 19418.74693506, 19418.74693506, 19418.74693506,\n",
       "       19418.74693506, 19418.74693506, 19418.74693506, 19418.74693506,\n",
       "       19418.74693506, 19418.74693506, 19418.74693506, 19418.74693506,\n",
       "       19418.74693506, 19418.74693506, 19418.74693506, 19418.74693506,\n",
       "       19418.74693506, 19418.74693506, 19418.74693506, 19418.74693506,\n",
       "       19418.74693506, 19418.74693506, 19418.74693506, 19418.74693506,\n",
       "       19418.74693506, 19418.74693506, 19418.74693506, 19418.74693506,\n",
       "       19418.74693506, 19418.74693506, 19418.74693506, 19418.74693506,\n",
       "       19418.74693506, 19418.74693506, 19418.74693506, 19418.74693506,\n",
       "       19418.74693506, 19418.74693506, 19418.74693506, 19418.74693506,\n",
       "       19418.74693506, 19418.74693506, 19418.74693506, 19418.74693506,\n",
       "       19418.74693506, 19418.74693506, 19418.74693506, 19418.74693506,\n",
       "       19418.74693506, 19418.74693506, 19418.74693506, 19418.74693506,\n",
       "       19418.74693506, 19418.74693506, 19418.74693506, 19418.74693506])"
      ]
     },
     "execution_count": 54,
     "metadata": {},
     "output_type": "execute_result"
    }
   ],
   "source": [
    "test_num_impute(\"mean\",nullData.columns[0])"
   ]
  },
  {
   "cell_type": "code",
   "execution_count": 55,
   "id": "86c00283",
   "metadata": {},
   "outputs": [
    {
     "data": {
      "text/plain": [
       "array([2.2, 2.2, 2.2, 2.2, 2.2, 2.2, 2.2, 2.2, 2.2, 2.2, 2.2, 2.2, 2.2,\n",
       "       2.2, 2.2, 2.2, 2.2, 2.2, 2.2, 2.2, 2.2, 2.2, 2.2, 2.2, 2.2, 2.2,\n",
       "       2.2, 2.2, 2.2, 2.2, 2.2, 2.2, 2.2, 2.2, 2.2, 2.2, 2.2, 2.2, 2.2,\n",
       "       2.2, 2.2, 2.2, 2.2, 2.2, 2.2, 2.2, 2.2, 2.2, 2.2, 2.2, 2.2, 2.2,\n",
       "       2.2, 2.2, 2.2, 2.2, 2.2, 2.2, 2.2, 2.2, 2.2, 2.2, 2.2, 2.2, 2.2,\n",
       "       2.2, 2.2, 2.2, 2.2, 2.2, 2.2, 2.2, 2.2, 2.2, 2.2, 2.2, 2.2, 2.2,\n",
       "       2.2, 2.2, 2.2, 2.2, 2.2, 2.2, 2.2, 2.2, 2.2, 2.2, 2.2, 2.2, 2.2,\n",
       "       2.2, 2.2, 2.2, 2.2, 2.2, 2.2, 2.2, 2.2, 2.2, 2.2, 2.2, 2.2, 2.2,\n",
       "       2.2, 2.2, 2.2, 2.2, 2.2, 2.2, 2.2, 2.2, 2.2, 2.2, 2.2, 2.2, 2.2,\n",
       "       2.2, 2.2, 2.2, 2.2, 2.2, 2.2, 2.2, 2.2, 2.2, 2.2, 2.2, 2.2, 2.2,\n",
       "       2.2, 2.2, 2.2, 2.2, 2.2, 2.2, 2.2, 2.2, 2.2, 2.2, 2.2, 2.2, 2.2,\n",
       "       2.2, 2.2, 2.2, 2.2, 2.2, 2.2, 2.2])"
      ]
     },
     "execution_count": 55,
     "metadata": {},
     "output_type": "execute_result"
    }
   ],
   "source": [
    "test_num_impute(\"median\",nullData.columns[1])"
   ]
  },
  {
   "cell_type": "code",
   "execution_count": 61,
   "id": "fe7d29f9",
   "metadata": {
    "scrolled": true
   },
   "outputs": [
    {
     "data": {
      "text/plain": [
       "array([19418.74693506, 19418.74693506, 19418.74693506, 19418.74693506,\n",
       "       19418.74693506, 19418.74693506, 19418.74693506, 19418.74693506,\n",
       "       19418.74693506, 19418.74693506, 19418.74693506, 19418.74693506,\n",
       "       19418.74693506, 19418.74693506, 19418.74693506, 19418.74693506,\n",
       "       19418.74693506, 19418.74693506, 19418.74693506, 19418.74693506,\n",
       "       19418.74693506, 19418.74693506, 19418.74693506, 19418.74693506,\n",
       "       19418.74693506, 19418.74693506, 19418.74693506, 19418.74693506,\n",
       "       19418.74693506, 19418.74693506, 19418.74693506, 19418.74693506,\n",
       "       19418.74693506, 19418.74693506, 19418.74693506, 19418.74693506,\n",
       "       19418.74693506, 19418.74693506, 19418.74693506, 19418.74693506,\n",
       "       19418.74693506, 19418.74693506, 19418.74693506, 19418.74693506,\n",
       "       19418.74693506, 19418.74693506, 19418.74693506, 19418.74693506,\n",
       "       19418.74693506, 19418.74693506, 19418.74693506, 19418.74693506,\n",
       "       19418.74693506, 19418.74693506, 19418.74693506, 19418.74693506,\n",
       "       19418.74693506, 19418.74693506, 19418.74693506, 19418.74693506,\n",
       "       19418.74693506, 19418.74693506, 19418.74693506, 19418.74693506,\n",
       "       19418.74693506, 19418.74693506, 19418.74693506, 19418.74693506,\n",
       "       19418.74693506, 19418.74693506, 19418.74693506, 19418.74693506,\n",
       "       19418.74693506, 19418.74693506, 19418.74693506, 19418.74693506,\n",
       "       19418.74693506, 19418.74693506, 19418.74693506, 19418.74693506,\n",
       "       19418.74693506, 19418.74693506, 19418.74693506, 19418.74693506,\n",
       "       19418.74693506, 19418.74693506, 19418.74693506, 19418.74693506,\n",
       "       19418.74693506, 19418.74693506, 19418.74693506, 19418.74693506,\n",
       "       19418.74693506, 19418.74693506, 19418.74693506, 19418.74693506,\n",
       "       19418.74693506, 19418.74693506, 19418.74693506, 19418.74693506,\n",
       "       19418.74693506, 19418.74693506, 19418.74693506, 19418.74693506,\n",
       "       19418.74693506, 19418.74693506, 19418.74693506, 19418.74693506,\n",
       "       19418.74693506, 19418.74693506, 19418.74693506, 19418.74693506,\n",
       "       19418.74693506, 19418.74693506, 19418.74693506, 19418.74693506,\n",
       "       19418.74693506, 19418.74693506, 19418.74693506, 19418.74693506,\n",
       "       19418.74693506, 19418.74693506, 19418.74693506, 19418.74693506,\n",
       "       19418.74693506, 19418.74693506, 19418.74693506, 19418.74693506,\n",
       "       19418.74693506, 19418.74693506, 19418.74693506, 19418.74693506,\n",
       "       19418.74693506, 19418.74693506, 19418.74693506, 19418.74693506,\n",
       "       19418.74693506, 19418.74693506, 19418.74693506, 19418.74693506,\n",
       "       19418.74693506, 19418.74693506, 19418.74693506, 19418.74693506,\n",
       "       19418.74693506, 19418.74693506, 19418.74693506, 19418.74693506,\n",
       "       19418.74693506, 19418.74693506, 19418.74693506, 19418.74693506,\n",
       "       19418.74693506, 19418.74693506, 19418.74693506, 19418.74693506,\n",
       "       19418.74693506, 19418.74693506, 19418.74693506, 19418.74693506,\n",
       "       19418.74693506, 19418.74693506, 19418.74693506, 19418.74693506,\n",
       "       19418.74693506, 19418.74693506, 19418.74693506, 19418.74693506,\n",
       "       19418.74693506, 19418.74693506, 19418.74693506, 19418.74693506])"
      ]
     },
     "execution_count": 61,
     "metadata": {},
     "output_type": "execute_result"
    }
   ],
   "source": [
    "test_num_impute(\"mean\",nullData.columns[0])"
   ]
  },
  {
   "cell_type": "code",
   "execution_count": 16,
   "id": "da20cf67",
   "metadata": {},
   "outputs": [
    {
     "data": {
      "text/plain": [
       "array([0.486, 0.486, 0.486, 0.486, 0.486, 0.486, 0.486, 0.486, 0.486,\n",
       "       0.486, 0.486, 0.486, 0.486, 0.486, 0.486, 0.486, 0.486, 0.486,\n",
       "       0.486, 0.486, 0.486, 0.486, 0.486, 0.486, 0.486, 0.486, 0.486,\n",
       "       0.486, 0.486, 0.486, 0.486, 0.486, 0.486, 0.486, 0.486, 0.486,\n",
       "       0.486, 0.486, 0.486, 0.486, 0.486, 0.486, 0.486, 0.486, 0.486,\n",
       "       0.486, 0.486, 0.486, 0.486, 0.486, 0.486, 0.486, 0.486])"
      ]
     },
     "execution_count": 16,
     "metadata": {},
     "output_type": "execute_result"
    }
   ],
   "source": [
    " test_num_impute(\"median\",nullData.columns[3])"
   ]
  },
  {
   "cell_type": "code",
   "execution_count": 17,
   "id": "d43eecd7",
   "metadata": {},
   "outputs": [
    {
     "data": {
      "text/plain": [
       "array([0.752, 0.752, 0.752, 0.752, 0.752, 0.752, 0.752, 0.752, 0.752,\n",
       "       0.752, 0.752, 0.752, 0.752, 0.752, 0.752, 0.752, 0.752, 0.752,\n",
       "       0.752, 0.752, 0.752, 0.752, 0.752, 0.752, 0.752, 0.752, 0.752,\n",
       "       0.752, 0.752, 0.752, 0.752, 0.752, 0.752, 0.752, 0.752, 0.752,\n",
       "       0.752, 0.752, 0.752, 0.752, 0.752, 0.752, 0.752, 0.752, 0.752,\n",
       "       0.752, 0.752, 0.752, 0.752, 0.752, 0.752, 0.752, 0.752, 0.752,\n",
       "       0.752, 0.752, 0.752, 0.752, 0.752, 0.752, 0.752, 0.752, 0.752,\n",
       "       0.752, 0.752, 0.752, 0.752, 0.752, 0.752, 0.752, 0.752, 0.752,\n",
       "       0.752, 0.752, 0.752, 0.752, 0.752, 0.752, 0.752, 0.752, 0.752,\n",
       "       0.752, 0.752, 0.752, 0.752, 0.752, 0.752, 0.752, 0.752, 0.752,\n",
       "       0.752, 0.752, 0.752, 0.752, 0.752, 0.752, 0.752, 0.752, 0.752,\n",
       "       0.752, 0.752, 0.752, 0.752, 0.752, 0.752, 0.752, 0.752, 0.752,\n",
       "       0.752, 0.752, 0.752, 0.752, 0.752, 0.752, 0.752, 0.752, 0.752,\n",
       "       0.752, 0.752, 0.752, 0.752, 0.752, 0.752, 0.752, 0.752, 0.752,\n",
       "       0.752, 0.752, 0.752, 0.752, 0.752, 0.752, 0.752, 0.752, 0.752,\n",
       "       0.752, 0.752, 0.752, 0.752, 0.752, 0.752, 0.752, 0.752, 0.752,\n",
       "       0.752, 0.752, 0.752, 0.752, 0.752, 0.752, 0.752, 0.752, 0.752,\n",
       "       0.752, 0.752, 0.752, 0.752, 0.752, 0.752, 0.752, 0.752, 0.752,\n",
       "       0.752, 0.752, 0.752, 0.752, 0.752, 0.752, 0.752, 0.752, 0.752,\n",
       "       0.752, 0.752, 0.752, 0.752, 0.752, 0.752, 0.752, 0.752, 0.752,\n",
       "       0.752, 0.752, 0.752, 0.752, 0.752, 0.752, 0.752, 0.752, 0.752,\n",
       "       0.752, 0.752, 0.752, 0.752, 0.752, 0.752, 0.752, 0.752, 0.752,\n",
       "       0.752, 0.752, 0.752, 0.752, 0.752, 0.752, 0.752, 0.752, 0.752,\n",
       "       0.752, 0.752, 0.752, 0.752, 0.752, 0.752, 0.752, 0.752, 0.752,\n",
       "       0.752, 0.752, 0.752, 0.752, 0.752, 0.752, 0.752, 0.752, 0.752,\n",
       "       0.752, 0.752, 0.752, 0.752, 0.752, 0.752, 0.752, 0.752, 0.752,\n",
       "       0.752, 0.752, 0.752, 0.752, 0.752, 0.752, 0.752, 0.752, 0.752,\n",
       "       0.752, 0.752, 0.752, 0.752, 0.752, 0.752, 0.752, 0.752, 0.752,\n",
       "       0.752, 0.752, 0.752, 0.752, 0.752, 0.752, 0.752, 0.752, 0.752,\n",
       "       0.752, 0.752, 0.752, 0.752, 0.752, 0.752, 0.752, 0.752, 0.752,\n",
       "       0.752, 0.752, 0.752, 0.752, 0.752, 0.752, 0.752, 0.752, 0.752,\n",
       "       0.752, 0.752, 0.752, 0.752, 0.752, 0.752, 0.752, 0.752, 0.752,\n",
       "       0.752, 0.752, 0.752, 0.752, 0.752, 0.752, 0.752, 0.752, 0.752,\n",
       "       0.752, 0.752, 0.752, 0.752, 0.752, 0.752, 0.752, 0.752, 0.752,\n",
       "       0.752, 0.752, 0.752, 0.752, 0.752, 0.752, 0.752, 0.752, 0.752,\n",
       "       0.752, 0.752, 0.752, 0.752, 0.752, 0.752, 0.752, 0.752, 0.752,\n",
       "       0.752, 0.752, 0.752, 0.752, 0.752, 0.752, 0.752, 0.752, 0.752,\n",
       "       0.752, 0.752, 0.752, 0.752, 0.752, 0.752, 0.752, 0.752, 0.752,\n",
       "       0.752, 0.752, 0.752, 0.752, 0.752, 0.752, 0.752, 0.752, 0.752,\n",
       "       0.752, 0.752, 0.752, 0.752, 0.752, 0.752, 0.752, 0.752, 0.752,\n",
       "       0.752, 0.752, 0.752, 0.752, 0.752, 0.752, 0.752, 0.752, 0.752,\n",
       "       0.752, 0.752, 0.752, 0.752, 0.752, 0.752, 0.752, 0.752, 0.752,\n",
       "       0.752, 0.752, 0.752, 0.752, 0.752, 0.752, 0.752, 0.752, 0.752,\n",
       "       0.752, 0.752, 0.752, 0.752, 0.752, 0.752, 0.752, 0.752, 0.752,\n",
       "       0.752, 0.752, 0.752, 0.752, 0.752, 0.752, 0.752, 0.752, 0.752,\n",
       "       0.752, 0.752, 0.752, 0.752, 0.752, 0.752, 0.752, 0.752, 0.752,\n",
       "       0.752, 0.752, 0.752, 0.752, 0.752, 0.752, 0.752, 0.752, 0.752,\n",
       "       0.752, 0.752, 0.752, 0.752, 0.752, 0.752, 0.752, 0.752, 0.752,\n",
       "       0.752, 0.752, 0.752, 0.752, 0.752, 0.752, 0.752, 0.752, 0.752,\n",
       "       0.752, 0.752, 0.752, 0.752, 0.752, 0.752, 0.752, 0.752, 0.752,\n",
       "       0.752, 0.752, 0.752, 0.752, 0.752, 0.752, 0.752, 0.752, 0.752,\n",
       "       0.752, 0.752, 0.752, 0.752, 0.752, 0.752, 0.752, 0.752, 0.752,\n",
       "       0.752, 0.752, 0.752, 0.752, 0.752, 0.752, 0.752, 0.752, 0.752,\n",
       "       0.752, 0.752, 0.752, 0.752, 0.752, 0.752, 0.752, 0.752, 0.752,\n",
       "       0.752, 0.752, 0.752, 0.752, 0.752, 0.752, 0.752])"
      ]
     },
     "execution_count": 17,
     "metadata": {},
     "output_type": "execute_result"
    }
   ],
   "source": [
    "test_num_impute(\"median\",nullData.columns[4])"
   ]
  },
  {
   "cell_type": "code",
   "execution_count": 62,
   "id": "00ddb7f1",
   "metadata": {
    "scrolled": true
   },
   "outputs": [
    {
     "data": {
      "image/png": "[encoded data removed]",
      "text/plain": [
       "<Figure size 432x288 with 1 Axes>"
      ]
     },
     "metadata": {
      "needs_background": "light"
     },
     "output_type": "display_data"
    },
    {
     "data": {
      "image/png": "[encoded data removed]",
      "text/plain": [
       "<Figure size 432x288 with 1 Axes>"
      ]
     },
     "metadata": {
      "needs_background": "light"
     },
     "output_type": "display_data"
    }
   ],
   "source": [
    "#Полученные графики после заполнения пустых значений\n",
    "for col in nullData:\n",
    "    plt.hist(data[col],50)\n",
    "    plt.xlabel(col)\n",
    "    plt.show()"
   ]
  },
  {
   "cell_type": "markdown",
   "id": "c2fef84f",
   "metadata": {},
   "source": [
    "# 2) Кодирование категориальных признаков"
   ]
  },
  {
   "cell_type": "markdown",
   "id": "8b17b732",
   "metadata": {},
   "source": [
    "### LabelEncoder"
   ]
  },
  {
   "cell_type": "markdown",
   "id": "52a5495e",
   "metadata": {},
   "source": [
    "Для этой задачи возмём датасет информации о посетителях библиотеки"
   ]
  },
  {
   "cell_type": "code",
   "execution_count": 67,
   "id": "e59ec984",
   "metadata": {},
   "outputs": [],
   "source": [
    "data = pd.read_csv(\"anime-list.csv\")"
   ]
  },
  {
   "cell_type": "code",
   "execution_count": 68,
   "id": "b652df97",
   "metadata": {},
   "outputs": [
    {
     "name": "stdout",
     "output_type": "stream",
     "text": [
      "Колонка tags. Тип данных object. Количество пустых значений 535, 17.8%.\n",
      "Колонка source. Тип данных object. Количество пустых значений 495, 16.47%.\n",
      "Колонка synopsis. Тип данных object. Количество пустых значений 690, 22.96%.\n",
      "Колонка status. Тип данных object. Количество пустых значений 24, 0.8%.\n"
     ]
    }
   ],
   "source": [
    "#Определение пустых значений\n",
    "cat_cols = []\n",
    "for col in data.columns:\n",
    "    # Количество пустых значений \n",
    "    temp_null_count = data[data[col].isnull()].shape[0]\n",
    "    dt = str(data[col].dtype)\n",
    "    if temp_null_count>0 and (dt=='object'):\n",
    "        cat_cols.append(col)\n",
    "        temp_perc = round((temp_null_count / data.shape[0]) * 100.0, 2)\n",
    "        print('Колонка {}. Тип данных {}. Количество пустых значений {}, {}%.'.format(col, dt, temp_null_count, temp_perc))"
   ]
  },
  {
   "cell_type": "code",
   "execution_count": 71,
   "id": "d017091e",
   "metadata": {},
   "outputs": [
    {
     "data": {
      "text/plain": [
       "array(['Manga', 'Original', '4-koma manga', 'Light novel', 'Game',\n",
       "       'Web manga', 'Card game', nan, 'Novel', 'Other', 'Radio',\n",
       "       'Visual novel', 'Book', 'Mixed media', 'Picture book', 'Music'],\n",
       "      dtype=object)"
      ]
     },
     "execution_count": 71,
     "metadata": {},
     "output_type": "execute_result"
    }
   ],
   "source": [
    "#Найдём уникальные значения столбца\n",
    "data[\"source\"].unique()"
   ]
  },
  {
   "cell_type": "code",
   "execution_count": 72,
   "id": "9a3264f3",
   "metadata": {},
   "outputs": [],
   "source": [
    "#Кодирование \n",
    "le = LabelEncoder()\n",
    "cat_enc_le = le.fit_transform(data[\"source\"])"
   ]
  },
  {
   "cell_type": "code",
   "execution_count": 73,
   "id": "b9b52aa8",
   "metadata": {},
   "outputs": [
    {
     "data": {
      "text/plain": [
       "array([ 0,  1,  2,  3,  4,  5,  6,  7,  8,  9, 10, 11, 12, 13, 14, 15])"
      ]
     },
     "execution_count": 73,
     "metadata": {},
     "output_type": "execute_result"
    }
   ],
   "source": [
    "#Новые уникальные значения столбца\n",
    "np.unique(cat_enc_le)"
   ]
  },
  {
   "cell_type": "code",
   "execution_count": 74,
   "id": "c0116ef9",
   "metadata": {},
   "outputs": [
    {
     "data": {
      "text/plain": [
       "array(['4-koma manga', 'Book', 'Card game', 'Game'], dtype=object)"
      ]
     },
     "execution_count": 74,
     "metadata": {},
     "output_type": "execute_result"
    }
   ],
   "source": [
    "#Раскодировка\n",
    "le.inverse_transform([0, 1, 2, 3])"
   ]
  },
  {
   "cell_type": "markdown",
   "id": "f4fa4a50",
   "metadata": {},
   "source": [
    "### OneHotEncoder"
   ]
  },
  {
   "cell_type": "code",
   "execution_count": 75,
   "id": "ac20b34b",
   "metadata": {},
   "outputs": [
    {
     "data": {
      "text/plain": [
       "array(['Shounen', 'Seinen', 'Shoujo', 'Josei', 'Kids'], dtype=object)"
      ]
     },
     "execution_count": 75,
     "metadata": {},
     "output_type": "execute_result"
    }
   ],
   "source": [
    "#Найдём уникальные значения столбца\n",
    "data[\"demographic\"].unique()"
   ]
  },
  {
   "cell_type": "code",
   "execution_count": 76,
   "id": "e9558a2a",
   "metadata": {},
   "outputs": [],
   "source": [
    "#Кодирование\n",
    "ohe = OneHotEncoder()\n",
    "cat_enc_ohe = ohe.fit_transform(data[[\"demographic\"]])"
   ]
  },
  {
   "cell_type": "code",
   "execution_count": 77,
   "id": "496fb2ca",
   "metadata": {},
   "outputs": [
    {
     "data": {
      "text/plain": [
       "matrix([[0., 0., 0., 0., 1.],\n",
       "        [0., 0., 0., 0., 1.],\n",
       "        [0., 0., 0., 0., 1.],\n",
       "        [0., 0., 0., 0., 1.]])"
      ]
     },
     "execution_count": 77,
     "metadata": {},
     "output_type": "execute_result"
    }
   ],
   "source": [
    "cat_enc_ohe.todense()[1:5]"
   ]
  },
  {
   "cell_type": "code",
   "execution_count": 78,
   "id": "139a5a3a",
   "metadata": {},
   "outputs": [
    {
     "data": {
      "text/html": [
       "<div>\n",
       "<style scoped>\n",
       "    .dataframe tbody tr th:only-of-type {\n",
       "        vertical-align: middle;\n",
       "    }\n",
       "\n",
       "    .dataframe tbody tr th {\n",
       "        vertical-align: top;\n",
       "    }\n",
       "\n",
       "    .dataframe thead th {\n",
       "        text-align: right;\n",
       "    }\n",
       "</style>\n",
       "<table border=\"1\" class=\"dataframe\">\n",
       "  <thead>\n",
       "    <tr style=\"text-align: right;\">\n",
       "      <th></th>\n",
       "      <th>Josei</th>\n",
       "      <th>Kids</th>\n",
       "      <th>Seinen</th>\n",
       "      <th>Shoujo</th>\n",
       "      <th>Shounen</th>\n",
       "    </tr>\n",
       "  </thead>\n",
       "  <tbody>\n",
       "    <tr>\n",
       "      <th>0</th>\n",
       "      <td>0</td>\n",
       "      <td>0</td>\n",
       "      <td>0</td>\n",
       "      <td>0</td>\n",
       "      <td>1</td>\n",
       "    </tr>\n",
       "    <tr>\n",
       "      <th>1</th>\n",
       "      <td>0</td>\n",
       "      <td>0</td>\n",
       "      <td>0</td>\n",
       "      <td>0</td>\n",
       "      <td>1</td>\n",
       "    </tr>\n",
       "    <tr>\n",
       "      <th>2</th>\n",
       "      <td>0</td>\n",
       "      <td>0</td>\n",
       "      <td>0</td>\n",
       "      <td>0</td>\n",
       "      <td>1</td>\n",
       "    </tr>\n",
       "    <tr>\n",
       "      <th>3</th>\n",
       "      <td>0</td>\n",
       "      <td>0</td>\n",
       "      <td>0</td>\n",
       "      <td>0</td>\n",
       "      <td>1</td>\n",
       "    </tr>\n",
       "    <tr>\n",
       "      <th>4</th>\n",
       "      <td>0</td>\n",
       "      <td>0</td>\n",
       "      <td>0</td>\n",
       "      <td>0</td>\n",
       "      <td>1</td>\n",
       "    </tr>\n",
       "    <tr>\n",
       "      <th>...</th>\n",
       "      <td>...</td>\n",
       "      <td>...</td>\n",
       "      <td>...</td>\n",
       "      <td>...</td>\n",
       "      <td>...</td>\n",
       "    </tr>\n",
       "    <tr>\n",
       "      <th>3000</th>\n",
       "      <td>0</td>\n",
       "      <td>1</td>\n",
       "      <td>0</td>\n",
       "      <td>0</td>\n",
       "      <td>0</td>\n",
       "    </tr>\n",
       "    <tr>\n",
       "      <th>3001</th>\n",
       "      <td>0</td>\n",
       "      <td>1</td>\n",
       "      <td>0</td>\n",
       "      <td>0</td>\n",
       "      <td>0</td>\n",
       "    </tr>\n",
       "    <tr>\n",
       "      <th>3002</th>\n",
       "      <td>0</td>\n",
       "      <td>1</td>\n",
       "      <td>0</td>\n",
       "      <td>0</td>\n",
       "      <td>0</td>\n",
       "    </tr>\n",
       "    <tr>\n",
       "      <th>3003</th>\n",
       "      <td>0</td>\n",
       "      <td>1</td>\n",
       "      <td>0</td>\n",
       "      <td>0</td>\n",
       "      <td>0</td>\n",
       "    </tr>\n",
       "    <tr>\n",
       "      <th>3004</th>\n",
       "      <td>0</td>\n",
       "      <td>1</td>\n",
       "      <td>0</td>\n",
       "      <td>0</td>\n",
       "      <td>0</td>\n",
       "    </tr>\n",
       "  </tbody>\n",
       "</table>\n",
       "<p>3005 rows × 5 columns</p>\n",
       "</div>"
      ],
      "text/plain": [
       "      Josei  Kids  Seinen  Shoujo  Shounen\n",
       "0         0     0       0       0        1\n",
       "1         0     0       0       0        1\n",
       "2         0     0       0       0        1\n",
       "3         0     0       0       0        1\n",
       "4         0     0       0       0        1\n",
       "...     ...   ...     ...     ...      ...\n",
       "3000      0     1       0       0        0\n",
       "3001      0     1       0       0        0\n",
       "3002      0     1       0       0        0\n",
       "3003      0     1       0       0        0\n",
       "3004      0     1       0       0        0\n",
       "\n",
       "[3005 rows x 5 columns]"
      ]
     },
     "execution_count": 78,
     "metadata": {},
     "output_type": "execute_result"
    }
   ],
   "source": [
    "#OHE в виде DataFrame\n",
    "pd.get_dummies(data[\"demographic\"])"
   ]
  },
  {
   "cell_type": "markdown",
   "id": "ad1f6b40",
   "metadata": {},
   "source": [
    "# 3) Масштабирование данных"
   ]
  },
  {
   "cell_type": "markdown",
   "id": "11e45a0a",
   "metadata": {},
   "source": [
    "### MinMax масштабирование (от 0 до 1)"
   ]
  },
  {
   "cell_type": "markdown",
   "id": "a0d3c204",
   "metadata": {},
   "source": [
    "Для масштабирования снова возьмём датасет anime сериалов"
   ]
  },
  {
   "cell_type": "code",
   "execution_count": 79,
   "id": "981612e6",
   "metadata": {},
   "outputs": [],
   "source": [
    "data = pd.read_csv(\"anime-list.csv\")"
   ]
  },
  {
   "cell_type": "code",
   "execution_count": 80,
   "id": "04f4ccb3",
   "metadata": {},
   "outputs": [],
   "source": [
    "#Масштабирование\n",
    "sc1 = MinMaxScaler()\n",
    "sc1_data = sc1.fit_transform(data[['rating']])"
   ]
  },
  {
   "cell_type": "code",
   "execution_count": 93,
   "id": "a6a911f1",
   "metadata": {},
   "outputs": [
    {
     "data": {
      "image/png": "[encoded data removed]",
      "text/plain": [
       "<Figure size 432x288 with 1 Axes>"
      ]
     },
     "metadata": {
      "needs_background": "light"
     },
     "output_type": "display_data"
    }
   ],
   "source": [
    "plt.hist(data['rating'], 50)\n",
    "plt.show()"
   ]
  },
  {
   "cell_type": "code",
   "execution_count": 94,
   "id": "d7334f9a",
   "metadata": {},
   "outputs": [
    {
     "data": {
      "image/png": "[encoded data removed]",
      "text/plain": [
       "<Figure size 432x288 with 1 Axes>"
      ]
     },
     "metadata": {
      "needs_background": "light"
     },
     "output_type": "display_data"
    }
   ],
   "source": [
    "plt.hist(sc1_data, 50)\n",
    "plt.show()"
   ]
  },
  {
   "cell_type": "markdown",
   "id": "f3859747",
   "metadata": {},
   "source": [
    "### На основе Z-оценки"
   ]
  },
  {
   "cell_type": "code",
   "execution_count": 95,
   "id": "7f2d9a41",
   "metadata": {},
   "outputs": [],
   "source": [
    "sc2 = StandardScaler()\n",
    "sc2_data = sc2.fit_transform(data[['rating']])"
   ]
  },
  {
   "cell_type": "code",
   "execution_count": 96,
   "id": "1f8d080c",
   "metadata": {},
   "outputs": [
    {
     "data": {
      "image/png": "[encoded data removed]",
      "text/plain": [
       "<Figure size 432x288 with 1 Axes>"
      ]
     },
     "metadata": {
      "needs_background": "light"
     },
     "output_type": "display_data"
    }
   ],
   "source": [
    "plt.hist(sc2_data, 50)\n",
    "plt.show()"
   ]
  },
  {
   "cell_type": "code",
   "execution_count": null,
   "id": "2d3387f6",
   "metadata": {},
   "outputs": [],
   "source": []
  }
 ],
 "metadata": {
  "kernelspec": {
   "display_name": "Python 3 (ipykernel)",
   "language": "python",
   "name": "python3"
  },
  "language_info": {
   "codemirror_mode": {
    "name": "ipython",
    "version": 3
   },
   "file_extension": ".py",
   "mimetype": "text/x-python",
   "name": "python",
   "nbconvert_exporter": "python",
   "pygments_lexer": "ipython3",
   "version": "3.10.2"
  }
 },
 "nbformat": 4,
 "nbformat_minor": 5
}
